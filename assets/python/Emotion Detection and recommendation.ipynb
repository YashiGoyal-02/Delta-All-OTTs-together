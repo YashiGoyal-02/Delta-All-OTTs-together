{
 "cells": [
  {
   "cell_type": "code",
   "execution_count": 1,
   "id": "7796352a",
   "metadata": {},
   "outputs": [],
   "source": [
    "from scipy.spatial import distance as dist\n",
    "from imutils import face_utils\n",
    "import numpy as np\n",
    "import math\n",
    "import imutils\n",
    "import time\n",
    "import dlib\n",
    "import cv2\n",
    "from cv2 import VideoWriter_fourcc, VideoWriter\n",
    "import matplotlib.pyplot as plt\n",
    "#from keras.preprocessing.image import img_to_array\n",
    "from tensorflow.keras.utils import img_to_array\n",
    "from keras.models import load_model"
   ]
  },
  {
   "cell_type": "code",
   "execution_count": 2,
   "id": "b310ba75",
   "metadata": {},
   "outputs": [
    {
     "name": "stdout",
     "output_type": "stream",
     "text": [
      "WARNING:tensorflow:Error in loading the saved optimizer state. As a result, your model is starting with a freshly initialized optimizer.\n"
     ]
    },
    {
     "data": {
      "text/plain": [
       "True"
      ]
     },
     "execution_count": 2,
     "metadata": {},
     "output_type": "execute_result"
    }
   ],
   "source": [
    "import cv2\n",
    "from keras.models import load_model\n",
    "import numpy as np\n",
    "# loading files\n",
    "haar_file=\"haarcascade_frontalface_default.xml\"\n",
    "emotion_model='_mini_XCEPTION.102-0.66.hdf5'\n",
    "\n",
    "cascade=cv2.CascadeClassifier(haar_file)\n",
    "emotion_classifier=load_model(emotion_model,compile=True)\n",
    "emotion_names=[\"angry\",\"disgust\",\"fear\", \"happy\", \"sad\", \"surprise\",\"neutral\"]\n",
    "#frame=cv2.imread('images/disgust_face.jpeg')\n",
    "#frame=cv2.imread('images/happy_face.jpeg')\n",
    "frame=cv2.imread('LiveCapture.png')\n",
    "#frame=cv2.imread('images/me_happy2.jpg')\n",
    "gray_frame=cv2.cvtColor(frame,cv2.COLOR_BGR2GRAY)\n",
    "faces=cascade.detectMultiScale(gray_frame,1.5,5)\n",
    "text=[]\n",
    "for (x,y,w,h) in faces:\n",
    "    roi=gray_frame[y:y+h,x:x+w]\n",
    "    roi=cv2.resize(roi,(64,64))\n",
    "    roi=roi.astype(\"float\")/255.0\n",
    "    roi=img_to_array(roi)\n",
    "    roi=np.expand_dims(roi,axis=0)\n",
    "    \n",
    "    predicted_emotion=emotion_classifier.predict(roi)[0]\n",
    "    probab=np.max(predicted_emotion)\n",
    "    label=emotion_names[predicted_emotion.argmax()]\n",
    "    percen=predicted_emotion*100\n",
    "    for j in range(7):\n",
    "        text.append(emotion_names[j]+\" : \"+str(percen[j]))\n",
    "    for i in range(7):    \n",
    "        #cv2.putText(frame,text[i],(5,i*30+15),cv2.FONT_HERSHEY_SIMPLEX,0.8,(0,255,255),2)\n",
    "        print(text[i])\n",
    "    cv2.putText(frame,label,(x,y-10),cv2.FONT_HERSHEY_SIMPLEX,2,(255,255,255),1)\n",
    "    cv2.rectangle(frame,(x,y),(x+w,y+h),(0,0,255),2)\n",
    "cv2.imwrite('result.jpg', frame)"
   ]
  },
  {
   "cell_type": "code",
   "execution_count": 3,
   "id": "df13f6e4",
   "metadata": {},
   "outputs": [
    {
     "ename": "NameError",
     "evalue": "name 'label' is not defined",
     "output_type": "error",
     "traceback": [
      "\u001b[1;31m---------------------------------------------------------------------------\u001b[0m",
      "\u001b[1;31mNameError\u001b[0m                                 Traceback (most recent call last)",
      "\u001b[1;32m~\\AppData\\Local\\Temp/ipykernel_8832/477565873.py\u001b[0m in \u001b[0;36m<module>\u001b[1;34m\u001b[0m\n\u001b[1;32m----> 1\u001b[1;33m \u001b[0mprint\u001b[0m\u001b[1;33m(\u001b[0m\u001b[0mlabel\u001b[0m\u001b[1;33m)\u001b[0m\u001b[1;33m\u001b[0m\u001b[1;33m\u001b[0m\u001b[0m\n\u001b[0m",
      "\u001b[1;31mNameError\u001b[0m: name 'label' is not defined"
     ]
    }
   ],
   "source": [
    "print(label)"
   ]
  },
  {
   "cell_type": "code",
   "execution_count": 3,
   "id": "b5a4ac8d",
   "metadata": {},
   "outputs": [
    {
     "ename": "SyntaxError",
     "evalue": "cannot assign to operator (Temp/ipykernel_16316/2229360270.py, line 1)",
     "output_type": "error",
     "traceback": [
      "\u001b[1;36m  File \u001b[1;32m\"C:\\Users\\Naina\\AppData\\Local\\Temp/ipykernel_16316/2229360270.py\"\u001b[1;36m, line \u001b[1;32m1\u001b[0m\n\u001b[1;33m    tensorflowjs_converter --input_format=keras /delta/_mini_XCEPTION.102-0.66.hdf5 /delta/tfjs_model\u001b[0m\n\u001b[1;37m    ^\u001b[0m\n\u001b[1;31mSyntaxError\u001b[0m\u001b[1;31m:\u001b[0m cannot assign to operator\n"
     ]
    }
   ],
   "source": [
    "tensorflowjs_converter --input_format=keras /delta/_mini_XCEPTION.102-0.66.hdf5 /delta/tfjs_model"
   ]
  },
  {
   "cell_type": "code",
   "execution_count": null,
   "id": "c799ecce",
   "metadata": {},
   "outputs": [],
   "source": []
  }
 ],
 "metadata": {
  "kernelspec": {
   "display_name": "Python 3 (ipykernel)",
   "language": "python",
   "name": "python3"
  },
  "language_info": {
   "codemirror_mode": {
    "name": "ipython",
    "version": 3
   },
   "file_extension": ".py",
   "mimetype": "text/x-python",
   "name": "python",
   "nbconvert_exporter": "python",
   "pygments_lexer": "ipython3",
   "version": "3.9.7"
  }
 },
 "nbformat": 4,
 "nbformat_minor": 5
}

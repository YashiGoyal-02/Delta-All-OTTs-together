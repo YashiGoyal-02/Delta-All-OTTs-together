{
 "cells": [
  {
   "cell_type": "code",
   "execution_count": 24,
   "id": "14095167",
   "metadata": {},
   "outputs": [],
   "source": [
    "from cv2 import *\n",
    "from cv2 import VideoCapture,imshow,imwrite,waitKey,destroyWindow\n",
    "# initialize the camera\n",
    "# If you have multiple camera connected with \n",
    "# current device, assign a value in cam_port \n",
    "# variable according to that\n",
    "cam_port = 0\n",
    "cam = VideoCapture(cam_port)\n",
    "  \n",
    "# reading the input using the camera\n",
    "result, image = cam.read()\n",
    "  \n",
    "# If image will detected without any error, \n",
    "# show result\n",
    "if result:\n",
    "  \n",
    "    # showing result, it take frame name and image \n",
    "    # output\n",
    "    imshow(\"LiveCapture\", image)\n",
    "  \n",
    "    # saving image in local storage\n",
    "    imwrite(\"LiveCapture.png\", image)\n",
    "  \n",
    "    # If keyboard interrupt occurs, destroy image \n",
    "    # window\n",
    "    #waitKey(0)\n",
    "    destroyWindow(\"LiveCapture\")\n",
    "  \n",
    "# If captured image is corrupted, moving to else part\n",
    "else:\n",
    "    print(\"No image detected. Please! try again\")"
   ]
  },
  {
   "cell_type": "code",
   "execution_count": 25,
   "id": "84227c9d",
   "metadata": {},
   "outputs": [
    {
     "name": "stdout",
     "output_type": "stream",
     "text": [
      "WARNING:tensorflow:Error in loading the saved optimizer state. As a result, your model is starting with a freshly initialized optimizer.\n",
      "WARNING:tensorflow:6 out of the last 6 calls to <function Model.make_predict_function.<locals>.predict_function at 0x000001BA66592160> triggered tf.function retracing. Tracing is expensive and the excessive number of tracings could be due to (1) creating @tf.function repeatedly in a loop, (2) passing tensors with different shapes, (3) passing Python objects instead of tensors. For (1), please define your @tf.function outside of the loop. For (2), @tf.function has reduce_retracing=True option that can avoid unnecessary retracing. For (3), please refer to https://www.tensorflow.org/guide/function#controlling_retracing and https://www.tensorflow.org/api_docs/python/tf/function for  more details.\n",
      "1/1 [==============================] - 0s 492ms/step\n",
      "angry : 0.26483798\n",
      "disgust : 0.30695677\n",
      "fear : 0.02565581\n",
      "happy : 99.300995\n",
      "sad : 0.0016083628\n",
      "surprise : 0.026607996\n",
      "neutral : 0.07333487\n"
     ]
    },
    {
     "data": {
      "text/plain": [
       "True"
      ]
     },
     "execution_count": 25,
     "metadata": {},
     "output_type": "execute_result"
    }
   ],
   "source": [
    "from scipy.spatial import distance as dist\n",
    "from imutils import face_utils\n",
    "import numpy as np\n",
    "import math\n",
    "import imutils\n",
    "import time\n",
    "import dlib\n",
    "import cv2\n",
    "from cv2 import VideoWriter_fourcc, VideoWriter\n",
    "import matplotlib.pyplot as plt\n",
    "#from keras.preprocessing.image import img_to_array\n",
    "from tensorflow.keras.utils import img_to_array\n",
    "from keras.models import load_model\n",
    "import cv2\n",
    "from keras.models import load_model\n",
    "import numpy as np\n",
    "# loading files\n",
    "haar_file=\"haarcascade_frontalface_default.xml\"\n",
    "emotion_model='_mini_XCEPTION.102-0.66.hdf5'\n",
    "\n",
    "cascade=cv2.CascadeClassifier(haar_file)\n",
    "emotion_classifier=load_model(emotion_model,compile=True)\n",
    "emotion_names=[\"angry\",\"disgust\",\"fear\", \"happy\", \"sad\", \"surprise\",\"neutral\"]\n",
    "#frame=cv2.imread('images/disgust_face.jpeg')\n",
    "#frame=cv2.imread('images/happy_face.jpeg')\n",
    "frame=cv2.imread('LiveCapture.png')\n",
    "#frame=cv2.imread('images/me_happy2.jpg')\n",
    "gray_frame=cv2.cvtColor(frame,cv2.COLOR_BGR2GRAY)\n",
    "faces=cascade.detectMultiScale(gray_frame,1.5,5)\n",
    "text=[]\n",
    "for (x,y,w,h) in faces:\n",
    "    roi=gray_frame[y:y+h,x:x+w]\n",
    "    roi=cv2.resize(roi,(64,64))\n",
    "    roi=roi.astype(\"float\")/255.0\n",
    "    roi=img_to_array(roi)\n",
    "    roi=np.expand_dims(roi,axis=0)\n",
    "    \n",
    "    predicted_emotion=emotion_classifier.predict(roi)[0]\n",
    "    probab=np.max(predicted_emotion)\n",
    "    label=emotion_names[predicted_emotion.argmax()]\n",
    "    percen=predicted_emotion*100\n",
    "    for j in range(7):\n",
    "        text.append(emotion_names[j]+\" : \"+str(percen[j]))\n",
    "    for i in range(7):    \n",
    "        #cv2.putText(frame,text[i],(5,i*30+15),cv2.FONT_HERSHEY_SIMPLEX,0.8,(0,255,255),2)\n",
    "        print(text[i])\n",
    "    cv2.putText(frame,label,(x,y-10),cv2.FONT_HERSHEY_SIMPLEX,2,(255,255,255),1)\n",
    "    cv2.rectangle(frame,(x,y),(x+w,y+h),(0,0,255),2)\n",
    "cv2.imwrite('result.jpg', frame)\n"
   ]
  },
  {
   "cell_type": "code",
   "execution_count": 11,
   "id": "acd89822",
   "metadata": {},
   "outputs": [
    {
     "name": "stdout",
     "output_type": "stream",
     "text": [
      "happy\n"
     ]
    }
   ],
   "source": [
    "print(label)"
   ]
  },
  {
   "cell_type": "code",
   "execution_count": 26,
   "id": "73a5a564",
   "metadata": {},
   "outputs": [
    {
     "name": "stdout",
     "output_type": "stream",
     "text": [
      "file:///E:/Women%20Techies/happy.html\n"
     ]
    },
    {
     "data": {
      "text/plain": [
       "True"
      ]
     },
     "execution_count": 26,
     "metadata": {},
     "output_type": "execute_result"
    }
   ],
   "source": [
    "import webbrowser\n",
    "website_links = {\"happy\":[\"file:///E:/Women%20Techies/happy.html\"],\n",
    "        \"sad\":[\"file:///E:/Women%20Techies/sad.html\"]}\n",
    "link=\"\"\n",
    "for i in website_links.get(label):\n",
    "    link=link+i\n",
    "print(link)\n",
    "webbrowser.open(link)\n",
    "# if (label=='happy' or label=='neutral' or label=='surprised'):\n",
    "#     #songs\n",
    "#     print(\"hi\")\n",
    "    \n",
    "# elif (label=='angry' or label=='sad'):\n",
    "#     print(tips.get(label))\n",
    "#     for i in website_links.get(label):\n",
    "#         print(i)\n",
    "#     for j in youtube_links.get(label):\n",
    "#         print(j)\n",
    "#     #songs\n",
    "#     #tips\n",
    "#     #resources\n",
    "    \n",
    "# elif (label=='fear'):\n",
    "#     #kmkm\n",
    "#     print(tips.get('fear'))\n",
    "#     print(website_links.get('fear'))\n",
    "#     print(youtube_links.get('fear'))"
   ]
  },
  {
   "cell_type": "code",
   "execution_count": null,
   "id": "20b4011f",
   "metadata": {},
   "outputs": [],
   "source": []
  }
 ],
 "metadata": {
  "kernelspec": {
   "display_name": "Python 3 (ipykernel)",
   "language": "python",
   "name": "python3"
  },
  "language_info": {
   "codemirror_mode": {
    "name": "ipython",
    "version": 3
   },
   "file_extension": ".py",
   "mimetype": "text/x-python",
   "name": "python",
   "nbconvert_exporter": "python",
   "pygments_lexer": "ipython3",
   "version": "3.9.7"
  }
 },
 "nbformat": 4,
 "nbformat_minor": 5
}
